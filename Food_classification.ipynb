{
  "cells": [
    {
      "cell_type": "code",
      "execution_count": null,
      "metadata": {
        "id": "5QHX_jdJgsYc"
      },
      "outputs": [],
      "source": [
        "import os\n",
        "import cv2\n",
        "import keras\n",
        "import numpy as np\n",
        "import pandas as pd\n",
        "import seaborn as sn\n",
        "import tensorflow as tf\n",
        "import matplotlib.pyplot as plt\n",
        "from keras.optimizers import Adam\n",
        "from keras.models import Sequential\n",
        "from sklearn.metrics import classification_report,confusion_matrix\n",
        "from keras.layers import Dense, Conv2D , MaxPool2D , Flatten , Dropout"
      ]
    },
    {
      "cell_type": "code",
      "execution_count": null,
      "metadata": {
        "colab": {
          "base_uri": "https://localhost:8080/"
        },
        "id": "dqqBng9Jg6ZR",
        "outputId": "030dae9c-c221-4b51-f46f-d0b81c708802"
      },
      "outputs": [
        {
          "name": "stdout",
          "output_type": "stream",
          "text": [
            "Mounted at /content/drive\n"
          ]
        }
      ],
      "source": [
        "from google.colab import drive\n",
        "drive.mount('/content/drive')"
      ]
    },
    {
      "cell_type": "code",
      "execution_count": null,
      "metadata": {
        "colab": {
          "background_save": true,
          "base_uri": "https://localhost:8080/"
        },
        "id": "n6JQvEDWYVrw",
        "outputId": "2afdcef4-c068-4197-eda5-fa52468bb94c"
      },
      "outputs": [
        {
          "name": "stderr",
          "output_type": "stream",
          "text": [
            "<ipython-input-3-f3ba3bad8753>:16: VisibleDeprecationWarning: Creating an ndarray from ragged nested sequences (which is a list-or-tuple of lists-or-tuples-or ndarrays with different lengths or shapes) is deprecated. If you meant to do this, you must specify 'dtype=object' when creating the ndarray.\n",
            "  return np.array(data)\n"
          ]
        }
      ],
      "source": [
        "categories = os.listdir('/content/drive/MyDrive/food20dataset/test_set')\n",
        "\n",
        "img_size = 256\n",
        "def get_data(data_dir):\n",
        "    data = []\n",
        "    for category in categories:\n",
        "        path = os.path.join(data_dir, category)\n",
        "        class_num = categories.index(category)\n",
        "        for img in os.listdir(path):\n",
        "            try:\n",
        "                img_arr = cv2.imread(os.path.join(path, img)) #[...,::-1] #convert BGR to RGB format #optional\n",
        "                resized_arr = cv2.resize(img_arr, (img_size, img_size)) #reshape\n",
        "                data.append([resized_arr, class_num])\n",
        "            except Exception as e:\n",
        "                print(e)\n",
        "    return np.array(data)\n",
        "\n",
        "train = get_data('/content/drive/MyDrive/food20dataset/train_set')\n",
        "val = get_data('/content/drive/MyDrive/food20dataset/test_set')\n",
        "\n",
        "x_train = []\n",
        "y_train = []\n",
        "x_val = []\n",
        "y_val = []\n",
        "\n",
        "for feature, label in train:\n",
        "  x_train.append(feature)\n",
        "  y_train.append(label)\n",
        "\n",
        "for feature, label in val:\n",
        "  x_val.append(feature)\n",
        "  y_val.append(label)\n",
        "\n",
        "# Normalize the data\n",
        "x_train = np.array(x_train) / 255\n",
        "x_val = np.array(x_val) / 255\n",
        "\n",
        "x_train.reshape(-1, img_size, img_size, 1)\n",
        "y_train = np.array(y_train)\n",
        "\n",
        "x_val.reshape(-1, img_size, img_size, 1)\n",
        "y_val = np.array(y_val)"
      ]
    },
    {
      "cell_type": "code",
      "execution_count": null,
      "metadata": {
        "colab": {
          "background_save": true
        },
        "id": "Acnf8fBPmnmn",
        "outputId": "0c112a2c-9e4a-49d0-9748-d48230e1a893"
      },
      "outputs": [
        {
          "name": "stdout",
          "output_type": "stream",
          "text": [
            "Model: \"sequential\"\n",
            "_________________________________________________________________\n",
            " Layer (type)                Output Shape              Param #   \n",
            "=================================================================\n",
            " conv2d (Conv2D)             (None, 256, 256, 128)     3584      \n",
            "                                                                 \n",
            " max_pooling2d (MaxPooling2  (None, 128, 128, 128)     0         \n",
            " D)                                                              \n",
            "                                                                 \n",
            " conv2d_1 (Conv2D)           (None, 128, 128, 32)      36896     \n",
            "                                                                 \n",
            " max_pooling2d_1 (MaxPoolin  (None, 64, 64, 32)        0         \n",
            " g2D)                                                            \n",
            "                                                                 \n",
            " conv2d_2 (Conv2D)           (None, 64, 64, 64)        18496     \n",
            "                                                                 \n",
            " max_pooling2d_2 (MaxPoolin  (None, 32, 32, 64)        0         \n",
            " g2D)                                                            \n",
            "                                                                 \n",
            " conv2d_3 (Conv2D)           (None, 32, 32, 64)        36928     \n",
            "                                                                 \n",
            " max_pooling2d_3 (MaxPoolin  (None, 16, 16, 64)        0         \n",
            " g2D)                                                            \n",
            "                                                                 \n",
            " dropout (Dropout)           (None, 16, 16, 64)        0         \n",
            "                                                                 \n",
            " flatten (Flatten)           (None, 16384)             0         \n",
            "                                                                 \n",
            " dense (Dense)               (None, 256)               4194560   \n",
            "                                                                 \n",
            " dense_1 (Dense)             (None, 20)                5140      \n",
            "                                                                 \n",
            "=================================================================\n",
            "Total params: 4295604 (16.39 MB)\n",
            "Trainable params: 4295604 (16.39 MB)\n",
            "Non-trainable params: 0 (0.00 Byte)\n",
            "_________________________________________________________________\n"
          ]
        }
      ],
      "source": [
        "model = Sequential()\n",
        "model.add(Conv2D(128,3,padding=\"same\", activation=\"relu\", input_shape=(256,256,3)))\n",
        "model.add(MaxPool2D())\n",
        "\n",
        "model.add(Conv2D(32, 3, padding=\"same\", activation=\"relu\"))\n",
        "model.add(MaxPool2D())\n",
        "\n",
        "model.add(Conv2D(64, 3, padding=\"same\", activation=\"relu\"))\n",
        "model.add(MaxPool2D())\n",
        "\n",
        "model.add(Conv2D(64, 3, padding=\"same\", activation=\"relu\"))\n",
        "model.add(MaxPool2D())\n",
        "model.add(Dropout(0.4))\n",
        "\n",
        "model.add(Flatten())\n",
        "model.add(Dense(256,activation=\"relu\"))\n",
        "model.add(Dense(20, activation=\"softmax\"))\n",
        "\n",
        "model.summary()"
      ]
    },
    {
      "cell_type": "code",
      "execution_count": null,
      "metadata": {
        "colab": {
          "background_save": true
        },
        "id": "p6yTSqOrmtnl",
        "outputId": "5e19e704-4ff6-4bcd-f1d0-0db2fb1658ad"
      },
      "outputs": [
        {
          "name": "stderr",
          "output_type": "stream",
          "text": [
            "/usr/local/lib/python3.10/dist-packages/keras/optimizers/legacy/adam.py:117: UserWarning: The `lr` argument is deprecated, use `learning_rate` instead.\n",
            "  super().__init__(name, **kwargs)\n"
          ]
        },
        {
          "name": "stdout",
          "output_type": "stream",
          "text": [
            "Epoch 1/20\n"
          ]
        },
        {
          "name": "stderr",
          "output_type": "stream",
          "text": [
            "/usr/local/lib/python3.10/dist-packages/keras/backend.py:5612: UserWarning: \"`sparse_categorical_crossentropy` received `from_logits=True`, but the `output` argument was produced by a Softmax activation and thus does not represent logits. Was this intended?\n",
            "  output, from_logits = _get_logits(\n"
          ]
        },
        {
          "name": "stdout",
          "output_type": "stream",
          "text": [
            "45/45 [==============================] - 627s 14s/step - loss: 3.0010 - accuracy: 0.0507 - val_loss: 2.9799 - val_accuracy: 0.0493\n",
            "Epoch 2/20\n",
            "45/45 [==============================] - 604s 13s/step - loss: 2.9377 - accuracy: 0.0874 - val_loss: 2.8458 - val_accuracy: 0.1773\n",
            "Epoch 3/20\n",
            "45/45 [==============================] - 611s 14s/step - loss: 2.7413 - accuracy: 0.1550 - val_loss: 2.5700 - val_accuracy: 0.1970\n",
            "Epoch 4/20\n",
            "45/45 [==============================] - 607s 14s/step - loss: 2.4855 - accuracy: 0.2424 - val_loss: 2.3706 - val_accuracy: 0.2578\n",
            "Epoch 5/20\n",
            "45/45 [==============================] - 610s 14s/step - loss: 2.2451 - accuracy: 0.3291 - val_loss: 2.2173 - val_accuracy: 0.3136\n",
            "Epoch 6/20\n",
            "45/45 [==============================] - 610s 14s/step - loss: 1.9902 - accuracy: 0.3961 - val_loss: 2.1138 - val_accuracy: 0.3415\n",
            "Epoch 7/20\n",
            "45/45 [==============================] - 610s 14s/step - loss: 1.7449 - accuracy: 0.4644 - val_loss: 1.9969 - val_accuracy: 0.3760\n",
            "Epoch 8/20\n",
            "45/45 [==============================] - 610s 14s/step - loss: 1.4949 - accuracy: 0.5680 - val_loss: 1.9189 - val_accuracy: 0.4089\n",
            "Epoch 9/20\n",
            "45/45 [==============================] - 622s 14s/step - loss: 1.2725 - accuracy: 0.6131 - val_loss: 1.8902 - val_accuracy: 0.4154\n",
            "Epoch 10/20\n",
            "45/45 [==============================] - 612s 14s/step - loss: 1.0014 - accuracy: 0.7082 - val_loss: 1.8085 - val_accuracy: 0.4713\n",
            "Epoch 11/20\n",
            "45/45 [==============================] - 612s 14s/step - loss: 0.7648 - accuracy: 0.7844 - val_loss: 2.0555 - val_accuracy: 0.4614\n",
            "Epoch 12/20\n",
            "45/45 [==============================] - 611s 14s/step - loss: 0.6247 - accuracy: 0.8238 - val_loss: 1.8613 - val_accuracy: 0.5156\n",
            "Epoch 13/20\n",
            "45/45 [==============================] - 618s 14s/step - loss: 0.4840 - accuracy: 0.8724 - val_loss: 1.9488 - val_accuracy: 0.5189\n",
            "Epoch 14/20\n",
            "45/45 [==============================] - 615s 14s/step - loss: 0.3693 - accuracy: 0.9070 - val_loss: 2.0250 - val_accuracy: 0.5468\n",
            "Epoch 15/20\n",
            "45/45 [==============================] - 615s 14s/step - loss: 0.2702 - accuracy: 0.9394 - val_loss: 2.0430 - val_accuracy: 0.5484\n",
            "Epoch 16/20\n",
            "45/45 [==============================] - 608s 14s/step - loss: 0.1816 - accuracy: 0.9697 - val_loss: 2.2698 - val_accuracy: 0.5304\n",
            "Epoch 17/20\n",
            "45/45 [==============================] - 620s 14s/step - loss: 0.1717 - accuracy: 0.9591 - val_loss: 2.2396 - val_accuracy: 0.5550\n",
            "Epoch 18/20\n",
            "45/45 [==============================] - 613s 14s/step - loss: 0.1163 - accuracy: 0.9746 - val_loss: 2.2815 - val_accuracy: 0.5550\n",
            "Epoch 19/20\n",
            "45/45 [==============================] - 576s 13s/step - loss: 0.1064 - accuracy: 0.9746 - val_loss: 2.2980 - val_accuracy: 0.5501\n",
            "Epoch 20/20\n",
            "45/45 [==============================] - 604s 13s/step - loss: 0.0701 - accuracy: 0.9873 - val_loss: 2.4841 - val_accuracy: 0.5386\n"
          ]
        }
      ],
      "source": [
        "opt = Adam(lr=0.0001)\n",
        "model.compile(optimizer = opt , loss = tf.keras.losses.SparseCategoricalCrossentropy(from_logits=True) , metrics = ['accuracy'])\n",
        "history = model.fit(x_train,y_train,epochs = 20, validation_data = (x_val, y_val))"
      ]
    },
    {
      "cell_type": "code",
      "execution_count": null,
      "metadata": {
        "id": "GXkkTB4jhSJT"
      },
      "outputs": [],
      "source": [
        ">\n",
        ".\n",
        ".\n",
        ".\n",
        ".\n",
        ">\n",
        "Ignore the code below but you will find graphs and stuff below"
      ]
    },
    {
      "cell_type": "code",
      "execution_count": null,
      "metadata": {
        "id": "fEEPF3ukblCc"
      },
      "outputs": [],
      "source": [
        "from tensorflow.keras.models import load_model\n",
        "\n",
        "model.save('/content/drive/MyDrive/Food_Classification/cnn_model.hdf5')"
      ]
    },
    {
      "cell_type": "code",
      "execution_count": null,
      "metadata": {
        "colab": {
          "base_uri": "https://localhost:8080/"
        },
        "id": "wJ7ja-OSe7UK",
        "outputId": "f6ac86d7-c417-4eb9-edf2-dbb0f151d93d"
      },
      "outputs": [
        {
          "name": "stdout",
          "output_type": "stream",
          "text": [
            "Dataset names: ['model_weights', 'optimizer_weights']\n"
          ]
        }
      ],
      "source": [
        "import h5py\n",
        "\n",
        "file_path = '/content/drive/MyDrive/Food_Classification/cnn_model.hdf5'\n",
        "\n",
        "# Load the HDF5 file\n",
        "with h5py.File(file_path, 'r') as h5_file:\n",
        "    # Get the list of dataset names using the keys() method\n",
        "    dataset_names = list(h5_file.keys())\n",
        "\n",
        "    # Print the dataset names\n",
        "    print(\"Dataset names:\", dataset_names)\n"
      ]
    },
    {
      "cell_type": "code",
      "execution_count": null,
      "metadata": {
        "colab": {
          "base_uri": "https://localhost:8080/"
        },
        "id": "_LdrNyw3E3Wd",
        "outputId": "b9aa05ee-f7c1-457e-a7ea-8450a99e9312"
      },
      "outputs": [
        {
          "name": "stdout",
          "output_type": "stream",
          "text": [
            "Group: model_weights\n",
            "  Group: conv2d_4\n",
            "    Group: conv2d_4\n",
            "      Dataset: bias:0\n",
            "      Dataset: kernel:0\n",
            "  Group: conv2d_5\n",
            "    Group: conv2d_5\n",
            "      Dataset: bias:0\n",
            "      Dataset: kernel:0\n",
            "  Group: conv2d_6\n",
            "    Group: conv2d_6\n",
            "      Dataset: bias:0\n",
            "      Dataset: kernel:0\n",
            "  Group: conv2d_7\n",
            "    Group: conv2d_7\n",
            "      Dataset: bias:0\n",
            "      Dataset: kernel:0\n",
            "  Group: dense_2\n",
            "    Group: dense_2\n",
            "      Dataset: bias:0\n",
            "      Dataset: kernel:0\n",
            "  Group: dense_3\n",
            "    Group: dense_3\n",
            "      Dataset: bias:0\n",
            "      Dataset: kernel:0\n",
            "  Group: dropout_1\n",
            "  Group: flatten_1\n",
            "  Group: max_pooling2d_4\n",
            "  Group: max_pooling2d_5\n",
            "  Group: max_pooling2d_6\n",
            "  Group: max_pooling2d_7\n",
            "  Group: top_level_model_weights\n",
            "Group: optimizer_weights\n",
            "  Group: Adam\n",
            "    Group: conv2d_4\n",
            "      Group: bias\n",
            "        Dataset: m:0\n",
            "        Dataset: v:0\n",
            "      Group: kernel\n",
            "        Dataset: m:0\n",
            "        Dataset: v:0\n",
            "    Group: conv2d_5\n",
            "      Group: bias\n",
            "        Dataset: m:0\n",
            "        Dataset: v:0\n",
            "      Group: kernel\n",
            "        Dataset: m:0\n",
            "        Dataset: v:0\n",
            "    Group: conv2d_6\n",
            "      Group: bias\n",
            "        Dataset: m:0\n",
            "        Dataset: v:0\n",
            "      Group: kernel\n",
            "        Dataset: m:0\n",
            "        Dataset: v:0\n",
            "    Group: conv2d_7\n",
            "      Group: bias\n",
            "        Dataset: m:0\n",
            "        Dataset: v:0\n",
            "      Group: kernel\n",
            "        Dataset: m:0\n",
            "        Dataset: v:0\n",
            "    Group: dense_2\n",
            "      Group: bias\n",
            "        Dataset: m:0\n",
            "        Dataset: v:0\n",
            "      Group: kernel\n",
            "        Dataset: m:0\n",
            "        Dataset: v:0\n",
            "    Group: dense_3\n",
            "      Group: bias\n",
            "        Dataset: m:0\n",
            "        Dataset: v:0\n",
            "      Group: kernel\n",
            "        Dataset: m:0\n",
            "        Dataset: v:0\n",
            "    Dataset: iter:0\n"
          ]
        }
      ],
      "source": [
        "file_path = '/content/drive/MyDrive/Food_Classification/cnn_model.hdf5'\n",
        "\n",
        "# Function to recursively print the contents of an HDF5 group\n",
        "def print_hdf5_group(group, indent=''):\n",
        "    for key in group.keys():\n",
        "        if isinstance(group[key], h5py.Group):\n",
        "            print(f\"{indent}Group: {key}\")\n",
        "            print_hdf5_group(group[key], indent + '  ')\n",
        "        elif isinstance(group[key], h5py.Dataset):\n",
        "            print(f\"{indent}Dataset: {key}\")\n",
        "\n",
        "# Open the HDF5 file\n",
        "with h5py.File(file_path, 'r') as h5_file:\n",
        "    # Print the contents of the HDF5 file\n",
        "    print_hdf5_group(h5_file)\n"
      ]
    },
    {
      "cell_type": "code",
      "execution_count": null,
      "metadata": {
        "colab": {
          "base_uri": "https://localhost:8080/"
        },
        "id": "klGCI0h-G9dC",
        "outputId": "fd839e7d-fdcf-41ef-ce6c-3d9918020933"
      },
      "outputs": [
        {
          "name": "stdout",
          "output_type": "stream",
          "text": [
            "Epoch data saved to HDF5 file: /content/drive/MyDrive/Food_Classification/epoch_data.hdf5\n"
          ]
        }
      ],
      "source": [
        "epochs = list(range(1, 21))\n",
        "accuracy = [0.0655, 0.1367, 0.2354, 0.3171, 0.3953, 0.4644, 0.5285, 0.5962, 0.6350, 0.6772,\n",
        "            0.7421, 0.7893, 0.8485, 0.8929, 0.8837, 0.9190, 0.9387, 0.9521, 0.9605, 0.9676]\n",
        "loss = [2.9913, 2.8191, 2.5104, 2.2708, 2.0047, 1.8007, 1.5696, 1.3747, 1.2063, 1.0704,\n",
        "        0.8437, 0.7076, 0.5330, 0.4245, 0.4087, 0.3107, 0.2243, 0.1918, 0.1562, 0.1398]\n",
        "val_accuracy = [0.1478, 0.2184, 0.2594, 0.3645, 0.3415, 0.4154, 0.4433, 0.4598, 0.4828, 0.5025,\n",
        "                0.5222, 0.5287, 0.5238, 0.5337, 0.4959, 0.5484, 0.5599, 0.5402, 0.5501, 0.5681]\n",
        "val_loss = [2.9403, 2.6248, 2.4010, 2.1136, 2.0385, 1.9223, 1.8614, 1.8769, 1.8679, 1.8046,\n",
        "            1.7646, 1.7196, 1.9107, 1.8910, 2.1572, 1.9694, 2.1417, 2.2688, 2.2476, 2.3006]\n",
        "\n",
        "save_path = '/content/drive/MyDrive/Food_Classification/epoch_data.hdf5'\n",
        "\n",
        "# Save the epoch data to HDF5 format\n",
        "with h5py.File(save_path, 'w') as h5_file:\n",
        "    h5_file.create_dataset('epochs', data=np.array(epochs))\n",
        "    h5_file.create_dataset('accuracy', data=np.array(accuracy))\n",
        "    h5_file.create_dataset('loss', data=np.array(loss))\n",
        "    h5_file.create_dataset('val_accuracy', data=np.array(val_accuracy))\n",
        "    h5_file.create_dataset('val_loss', data=np.array(val_loss))\n",
        "\n",
        "print(\"Epoch data saved to HDF5 file:\", save_path)\n"
      ]
    },
    {
      "cell_type": "code",
      "execution_count": null,
      "metadata": {
        "colab": {
          "base_uri": "https://localhost:8080/",
          "height": 607
        },
        "id": "BnPRMN8JJaT0",
        "outputId": "eb310431-2067-435e-cf21-b8b3e89794be"
      },
      "outputs": [
        {
          "data": {
            "image/png": "[encoded data removed]",
            "text/plain": [
              "<Figure size 1200x600 with 2 Axes>"
            ]
          },
          "metadata": {},
          "output_type": "display_data"
        }
      ],
      "source": [
        "import h5py\n",
        "import matplotlib.pyplot as plt\n",
        "\n",
        "file_path = '/content/drive/MyDrive/Food_Classification/epoch_data.hdf5'\n",
        "\n",
        "# Load the HDF5 file\n",
        "with h5py.File(file_path, 'r') as h5_file:\n",
        "    # Access the datasets\n",
        "    epochs = h5_file['epochs'][:]\n",
        "    accuracy = h5_file['accuracy'][:]\n",
        "    loss = h5_file['loss'][:]\n",
        "    val_accuracy = h5_file['val_accuracy'][:]\n",
        "    val_loss = h5_file['val_loss'][:]\n",
        "\n",
        "# Plotting\n",
        "plt.figure(figsize=(12, 6))\n",
        "\n",
        "# Accuracy plot\n",
        "plt.subplot(1, 2, 1)\n",
        "plt.plot(epochs, accuracy, label='Training Accuracy', c='#4CAF50', linewidth=2)\n",
        "plt.plot(epochs, val_accuracy, label='Validation Accuracy', c='red', linewidth=2)\n",
        "plt.title('Training and Validation Accuracy')\n",
        "plt.xlabel('Epoch')\n",
        "plt.ylabel('Accuracy')\n",
        "plt.legend()\n",
        "\n",
        "# Loss plot\n",
        "plt.subplot(1, 2, 2)\n",
        "plt.plot(epochs, loss, label='Training Loss', c='#4CAF50', linewidth=2)\n",
        "plt.plot(epochs, val_loss, label='Validation Loss', c='red', linewidth=2)\n",
        "plt.title('Training and Validation Loss')\n",
        "plt.xlabel('Epoch')\n",
        "plt.ylabel('Loss')\n",
        "plt.legend()\n",
        "\n",
        "plt.tight_layout()\n",
        "plt.show()\n"
      ]
    },
    {
      "cell_type": "code",
      "execution_count": null,
      "metadata": {
        "colab": {
          "base_uri": "https://localhost:8080/"
        },
        "id": "EmTIFnQAMUil",
        "outputId": "61f834f8-e896-4381-ad20-de7a38e35548"
      },
      "outputs": [
        {
          "name": "stdout",
          "output_type": "stream",
          "text": [
            "20/20 [==============================] - 116s 2s/step\n",
            "                  precision    recall  f1-score   support\n",
            "\n",
            "    bisibelebath       0.62      0.33      0.43        30\n",
            "          samosa       1.00      0.60      0.75        30\n",
            "          dhokla       0.81      0.97      0.88        30\n",
            "           chaat       0.60      0.70      0.65        30\n",
            "        vada pav       0.97      0.93      0.95        30\n",
            "       paniyaram       0.90      0.93      0.92        30\n",
            "           poori       1.00      0.83      0.91        30\n",
            "            idly       0.83      0.77      0.80        39\n",
            "       meduvadai       0.87      0.87      0.87        30\n",
            "      ven pongal       0.50      0.90      0.64        30\n",
            "           halwa       0.50      0.73      0.59        30\n",
            "        chappati       0.80      0.80      0.80        30\n",
            "            upma       0.52      0.37      0.43        30\n",
            "         noodles       0.90      0.90      0.90        30\n",
            "        biriyani       0.85      0.73      0.79        30\n",
            "      kathi roll       0.75      1.00      0.86        30\n",
            "tandoori chicken       0.88      0.93      0.90        30\n",
            "      butternaan       0.80      0.67      0.73        30\n",
            "     gulab jamun       0.97      0.93      0.95        30\n",
            "            dosa       0.86      0.63      0.73        30\n",
            "\n",
            "        accuracy                           0.78       609\n",
            "       macro avg       0.80      0.78      0.77       609\n",
            "    weighted avg       0.80      0.78      0.77       609\n",
            "\n"
          ]
        }
      ],
      "source": [
        "predictions = model.predict(x_val)\n",
        "predicted_classes = np.argmax(predictions, axis=1)\n",
        "\n",
        "from sklearn.metrics import classification_report, confusion_matrix\n",
        "print(classification_report(y_val, predicted_classes, target_names=categories))\n"
      ]
    },
    {
      "cell_type": "code",
      "execution_count": null,
      "metadata": {
        "colab": {
          "base_uri": "https://localhost:8080/",
          "height": 407
        },
        "id": "Ln0DX4aVJilF",
        "outputId": "6c4082b5-d03d-4f9a-de40-c7afd39b6222"
      },
      "outputs": [
        {
          "ename": "OSError",
          "evalue": "ignored",
          "output_type": "error",
          "traceback": [
            "\u001b[0;31m---------------------------------------------------------------------------\u001b[0m",
            "\u001b[0;31mOSError\u001b[0m                                   Traceback (most recent call last)",
            "\u001b[0;32m<ipython-input-1-15752c3bfd2b>\u001b[0m in \u001b[0;36m<cell line: 10>\u001b[0;34m()\u001b[0m\n\u001b[1;32m      8\u001b[0m \u001b[0;32mfrom\u001b[0m \u001b[0mipywidgets\u001b[0m \u001b[0;32mimport\u001b[0m \u001b[0mFileUpload\u001b[0m\u001b[0;34m\u001b[0m\u001b[0;34m\u001b[0m\u001b[0m\n\u001b[1;32m      9\u001b[0m \u001b[0;31m# Load the model\u001b[0m\u001b[0;34m\u001b[0m\u001b[0;34m\u001b[0m\u001b[0m\n\u001b[0;32m---> 10\u001b[0;31m \u001b[0mmodel\u001b[0m \u001b[0;34m=\u001b[0m \u001b[0mload_model\u001b[0m\u001b[0;34m(\u001b[0m\u001b[0;34m'/content/drive/MyDrive/Food_Classification/cnn_model.hdf5'\u001b[0m\u001b[0;34m)\u001b[0m\u001b[0;34m\u001b[0m\u001b[0;34m\u001b[0m\u001b[0m\n\u001b[0m\u001b[1;32m     11\u001b[0m \u001b[0;34m\u001b[0m\u001b[0m\n\u001b[1;32m     12\u001b[0m \u001b[0;31m# Define categories\u001b[0m\u001b[0;34m\u001b[0m\u001b[0;34m\u001b[0m\u001b[0m\n",
            "\u001b[0;32m/usr/local/lib/python3.10/dist-packages/keras/saving/saving_api.py\u001b[0m in \u001b[0;36mload_model\u001b[0;34m(filepath, custom_objects, compile, safe_mode, **kwargs)\u001b[0m\n\u001b[1;32m    210\u001b[0m \u001b[0;34m\u001b[0m\u001b[0m\n\u001b[1;32m    211\u001b[0m     \u001b[0;31m# Legacy case.\u001b[0m\u001b[0;34m\u001b[0m\u001b[0;34m\u001b[0m\u001b[0m\n\u001b[0;32m--> 212\u001b[0;31m     return legacy_sm_saving_lib.load_model(\n\u001b[0m\u001b[1;32m    213\u001b[0m         \u001b[0mfilepath\u001b[0m\u001b[0;34m,\u001b[0m \u001b[0mcustom_objects\u001b[0m\u001b[0;34m=\u001b[0m\u001b[0mcustom_objects\u001b[0m\u001b[0;34m,\u001b[0m \u001b[0mcompile\u001b[0m\u001b[0;34m=\u001b[0m\u001b[0mcompile\u001b[0m\u001b[0;34m,\u001b[0m \u001b[0;34m**\u001b[0m\u001b[0mkwargs\u001b[0m\u001b[0;34m\u001b[0m\u001b[0;34m\u001b[0m\u001b[0m\n\u001b[1;32m    214\u001b[0m     )\n",
            "\u001b[0;32m/usr/local/lib/python3.10/dist-packages/keras/utils/traceback_utils.py\u001b[0m in \u001b[0;36merror_handler\u001b[0;34m(*args, **kwargs)\u001b[0m\n\u001b[1;32m     68\u001b[0m             \u001b[0;31m# To get the full stack trace, call:\u001b[0m\u001b[0;34m\u001b[0m\u001b[0;34m\u001b[0m\u001b[0m\n\u001b[1;32m     69\u001b[0m             \u001b[0;31m# `tf.debugging.disable_traceback_filtering()`\u001b[0m\u001b[0;34m\u001b[0m\u001b[0;34m\u001b[0m\u001b[0m\n\u001b[0;32m---> 70\u001b[0;31m             \u001b[0;32mraise\u001b[0m \u001b[0me\u001b[0m\u001b[0;34m.\u001b[0m\u001b[0mwith_traceback\u001b[0m\u001b[0;34m(\u001b[0m\u001b[0mfiltered_tb\u001b[0m\u001b[0;34m)\u001b[0m \u001b[0;32mfrom\u001b[0m \u001b[0;32mNone\u001b[0m\u001b[0;34m\u001b[0m\u001b[0;34m\u001b[0m\u001b[0m\n\u001b[0m\u001b[1;32m     71\u001b[0m         \u001b[0;32mfinally\u001b[0m\u001b[0;34m:\u001b[0m\u001b[0;34m\u001b[0m\u001b[0;34m\u001b[0m\u001b[0m\n\u001b[1;32m     72\u001b[0m             \u001b[0;32mdel\u001b[0m \u001b[0mfiltered_tb\u001b[0m\u001b[0;34m\u001b[0m\u001b[0;34m\u001b[0m\u001b[0m\n",
            "\u001b[0;32m/usr/local/lib/python3.10/dist-packages/keras/saving/legacy/save.py\u001b[0m in \u001b[0;36mload_model\u001b[0;34m(filepath, custom_objects, compile, options)\u001b[0m\n\u001b[1;32m    228\u001b[0m                     \u001b[0;32mif\u001b[0m \u001b[0misinstance\u001b[0m\u001b[0;34m(\u001b[0m\u001b[0mfilepath_str\u001b[0m\u001b[0;34m,\u001b[0m \u001b[0mstr\u001b[0m\u001b[0;34m)\u001b[0m\u001b[0;34m:\u001b[0m\u001b[0;34m\u001b[0m\u001b[0;34m\u001b[0m\u001b[0m\n\u001b[1;32m    229\u001b[0m                         \u001b[0;32mif\u001b[0m \u001b[0;32mnot\u001b[0m \u001b[0mtf\u001b[0m\u001b[0;34m.\u001b[0m\u001b[0mio\u001b[0m\u001b[0;34m.\u001b[0m\u001b[0mgfile\u001b[0m\u001b[0;34m.\u001b[0m\u001b[0mexists\u001b[0m\u001b[0;34m(\u001b[0m\u001b[0mfilepath_str\u001b[0m\u001b[0;34m)\u001b[0m\u001b[0;34m:\u001b[0m\u001b[0;34m\u001b[0m\u001b[0;34m\u001b[0m\u001b[0m\n\u001b[0;32m--> 230\u001b[0;31m                             raise IOError(\n\u001b[0m\u001b[1;32m    231\u001b[0m                                 \u001b[0;34mf\"No file or directory found at {filepath_str}\"\u001b[0m\u001b[0;34m\u001b[0m\u001b[0;34m\u001b[0m\u001b[0m\n\u001b[1;32m    232\u001b[0m                             )\n",
            "\u001b[0;31mOSError\u001b[0m: No file or directory found at /content/drive/MyDrive/Food_Classification/cnn_model.hdf5"
          ]
        }
      ],
      "source": [
        "import os\n",
        "import cv2\n",
        "import numpy as np\n",
        "import matplotlib.pyplot as plt\n",
        "from keras.models import load_model\n",
        "from keras.applications.inception_v3 import preprocess_input\n",
        "from IPython.display import display, Image\n",
        "from ipywidgets import FileUpload\n",
        "# Load the model\n",
        "model = load_model('/content/drive/MyDrive/Food_Classification/cnn_model.hdf5')\n",
        "\n",
        "# Define categories\n",
        "categories = os.listdir('/content/drive/MyDrive/food20dataset/test_set')\n",
        "\n",
        "img_size = 256\n",
        "\n",
        "# Preprocess and predict on the uploaded image\n",
        "def predict_image_class(image_path):\n",
        "    img = preprocess_image(image_path)\n",
        "    prediction = model.predict(img)\n",
        "    predicted_class = np.argmax(prediction)\n",
        "    return categories[predicted_class]\n",
        "\n",
        "# Load and preprocess the image\n",
        "def preprocess_image(image_path):\n",
        "    img = cv2.imread(image_path)\n",
        "    img = cv2.resize(img, (img_size, img_size))\n",
        "    img = img / 255.0  # Normalize the image\n",
        "    img = np.expand_dims(img, axis=0)\n",
        "    return img\n",
        "\n",
        "# Create an interactive file uploader widget\n",
        "uploader = FileUpload(accept='.jpg', multiple=False)\n",
        "\n",
        "# Display the uploader widget\n",
        "display(uploader)\n",
        "\n",
        "# Function to handle image upload and prediction\n",
        "def handle_upload(change):\n",
        "    uploaded_filename = next(iter(uploader.value))\n",
        "    image_data = uploader.value[uploaded_filename]['content']\n",
        "    image_path = '/content/' + uploaded_filename\n",
        "\n",
        "    # Save the uploaded image\n",
        "    with open(image_path, 'wb') as f:\n",
        "        f.write(image_data)\n",
        "\n",
        "    # Display the uploaded image\n",
        "    display(Image(filename=image_path, width=300, height=300))\n",
        "\n",
        "    # Make a prediction\n",
        "    predicted_class = predict_image_class(image_path)\n",
        "    print(\"Predicted class:\", predicted_class)\n",
        "\n",
        "# Attach the event handler to the uploader\n",
        "uploader.observe(handle_upload, names='value')\n"
      ]
    },
    {
      "cell_type": "code",
      "execution_count": null,
      "metadata": {
        "id": "kAUUD_UBWb_Y"
      },
      "outputs": [],
      "source": []
    }
  ],
  "metadata": {
    "colab": {
      "provenance": []
    },
    "kernelspec": {
      "display_name": "Python 3",
      "name": "python3"
    },
    "language_info": {
      "name": "python"
    }
  },
  "nbformat": 4,
  "nbformat_minor": 0
}