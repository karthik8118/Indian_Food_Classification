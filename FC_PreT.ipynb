{
  "nbformat": 4,
  "nbformat_minor": 0,
  "metadata": {
    "colab": {
      "provenance": [],
      "gpuType": "T4"
    },
    "kernelspec": {
      "name": "python3",
      "display_name": "Python 3"
    },
    "language_info": {
      "name": "python"
    },
    "accelerator": "GPU"
  },
  "cells": [
    {
      "cell_type": "code",
      "execution_count": null,
      "metadata": {
        "id": "Djpi1oxzQVvj"
      },
      "outputs": [],
      "source": [
        "import os\n",
        "import cv2\n",
        "import numpy as np\n",
        "import matplotlib.pyplot as plt\n",
        "from keras.applications.inception_v3 import InceptionV3, preprocess_input\n",
        "from keras.layers import GlobalAveragePooling2D, Dense\n",
        "from keras.models import Model\n",
        "from IPython.display import display, Image\n",
        "from ipywidgets import FileUpload"
      ]
    },
    {
      "cell_type": "code",
      "source": [
        "from google.colab import drive\n",
        "drive.mount('/content/drive')"
      ],
      "metadata": {
        "colab": {
          "base_uri": "https://localhost:8080/"
        },
        "id": "kMyXTDkEUaiR",
        "outputId": "19a0b614-cc37-4514-d321-25e903057fbd"
      },
      "execution_count": null,
      "outputs": [
        {
          "output_type": "stream",
          "name": "stdout",
          "text": [
            "Drive already mounted at /content/drive; to attempt to forcibly remount, call drive.mount(\"/content/drive\", force_remount=True).\n"
          ]
        }
      ]
    },
    {
      "cell_type": "code",
      "source": [
        "tf.keras.applications.InceptionV3(\n",
        "    include_top=True,\n",
        "    weights=\"imagenet\",\n",
        "    input_tensor=None,\n",
        "    input_shape=None,\n",
        "    pooling=None,\n",
        "    classes=1000,\n",
        "    classifier_activation=\"softmax\",\n",
        ")\n"
      ],
      "metadata": {
        "colab": {
          "base_uri": "https://localhost:8080/"
        },
        "id": "7fMzh_waUhDc",
        "outputId": "296b5437-49dc-44f4-832e-88c85fdb2f65"
      },
      "execution_count": null,
      "outputs": [
        {
          "output_type": "stream",
          "name": "stdout",
          "text": [
            "Downloading data from https://storage.googleapis.com/tensorflow/keras-applications/inception_v3/inception_v3_weights_tf_dim_ordering_tf_kernels.h5\n",
            "96112376/96112376 [==============================] - 1s 0us/step\n"
          ]
        },
        {
          "output_type": "execute_result",
          "data": {
            "text/plain": [
              "<keras.engine.functional.Functional at 0x7819f5e02e30>"
            ]
          },
          "metadata": {},
          "execution_count": 3
        }
      ]
    },
    {
      "cell_type": "code",
      "source": [
        "# Define categories\n",
        "categories = os.listdir('/content/drive/MyDrive/food20dataset/test_set')\n",
        "img_size = 299\n",
        "\n",
        "# Load the InceptionV3 model without the top classification layer\n",
        "base_model = InceptionV3(include_top=False, weights='imagenet', input_shape=(299, 299, 3))\n",
        "\n",
        "# Add your custom classification layers on top of InceptionV3\n",
        "x = base_model.output\n",
        "x = GlobalAveragePooling2D()(x)\n",
        "x = Dense(256, activation='relu')(x)\n",
        "predictions = Dense(len(categories), activation='softmax')(x)\n",
        "model = Model(inputs=base_model.input, outputs=predictions)\n",
        "\n",
        "# Compile the model\n",
        "model.compile(optimizer='adam', loss='categorical_crossentropy', metrics=['accuracy'])\n",
        "\n",
        "\n",
        "# Preprocess and predict on the uploaded image\n",
        "def predict_image_class(image_path):\n",
        "    img = preprocess_image(image_path)\n",
        "    prediction = model.predict(img)\n",
        "    predicted_class = np.argmax(prediction)\n",
        "    return categories[predicted_class]\n",
        "\n",
        "# Load and preprocess the image\n",
        "def preprocess_image(image_path):\n",
        "    img = cv2.imread(image_path)\n",
        "    img = cv2.resize(img, (img_size, img_size))\n",
        "    img = preprocess_input(img)  # Preprocess using InceptionV3 preprocessing\n",
        "    img = np.expand_dims(img, axis=0)\n",
        "    return img\n",
        "\n",
        "# Create an interactive file uploader widget\n",
        "uploader = FileUpload(accept='.jpg', multiple=False)\n",
        "\n",
        "# Display the uploader widget\n",
        "display(uploader)\n",
        "\n",
        "# Function to handle image upload and prediction\n",
        "def handle_upload(change):\n",
        "    uploaded_filename = next(iter(uploader.value))\n",
        "    image_data = uploader.value[uploaded_filename]['content']\n",
        "    image_path = '/content/' + uploaded_filename\n",
        "\n",
        "    # Save the uploaded image\n",
        "    with open(image_path, 'wb') as f:\n",
        "        f.write(image_data)\n",
        "\n",
        "    # Display the uploaded image\n",
        "    display(Image(filename=image_path, width=300, height=300))\n",
        "\n",
        "    # Make a prediction\n",
        "    predicted_class = predict_image_class(image_path)\n",
        "    print(\"Predicted class:\", predicted_class)\n",
        "\n",
        "# Attach the event handler to the uploader\n",
        "uploader.observe(handle_upload, names='value')\n"
      ],
      "metadata": {
        "id": "jPbJJNZUUyQr"
      },
      "execution_count": null,
      "outputs": []
    },
    {
      "cell_type": "code",
      "source": [
        "import os\n",
        "import cv2\n",
        "import numpy as np\n",
        "from keras.applications.inception_v3 import InceptionV3, preprocess_input\n",
        "from keras.layers import GlobalAveragePooling2D, Dense, Dropout\n",
        "from keras.models import Model\n",
        "from keras.preprocessing.image import ImageDataGenerator\n",
        "from keras.utils import to_categorical\n",
        "from sklearn.model_selection import train_test_split\n",
        "from keras.callbacks import EarlyStopping\n",
        "from keras.optimizers import RMSprop  # Import RMSprop optimizer\n",
        "from IPython.display import display, Image\n",
        "from ipywidgets import FileUpload"
      ],
      "metadata": {
        "id": "hQLTr7mZe9ZO"
      },
      "execution_count": null,
      "outputs": []
    },
    {
      "cell_type": "code",
      "source": [
        "# Define categories\n",
        "categories = os.listdir('/content/drive/MyDrive/food20dataset/test_set')\n",
        "num_classes = len(categories)\n",
        "\n",
        "# Load and preprocess the dataset\n",
        "img_size = 299"
      ],
      "metadata": {
        "id": "GjMq7xKIe_yb"
      },
      "execution_count": null,
      "outputs": []
    },
    {
      "cell_type": "code",
      "source": [
        "def preprocess_data(data_dir):\n",
        "    data = []\n",
        "    labels = []\n",
        "    for category in categories:\n",
        "        path = os.path.join(data_dir, category)\n",
        "        class_num = categories.index(category)\n",
        "        for img in os.listdir(path):\n",
        "            try:\n",
        "                img_arr = cv2.imread(os.path.join(path, img))\n",
        "                resized_arr = cv2.resize(img_arr, (img_size, img_size))\n",
        "                data.append(resized_arr)\n",
        "                labels.append(class_num)\n",
        "            except Exception as e:\n",
        "                print(e)\n",
        "    return np.array(data), np.array(labels)\n",
        "\n",
        "x_data, y_labels = preprocess_data('/content/drive/MyDrive/food20dataset/train_set')\n",
        "\n",
        "# Split the dataset into training and validation sets\n",
        "x_train, x_val, y_train, y_val = train_test_split(x_data, y_labels, test_size=0.2, random_state=42)\n",
        "\n",
        "# Convert labels to one-hot encoded format\n",
        "y_train = to_categorical(y_train, num_classes)\n",
        "y_val = to_categorical(y_val, num_classes)"
      ],
      "metadata": {
        "id": "C9RawxMphLM5"
      },
      "execution_count": null,
      "outputs": []
    },
    {
      "cell_type": "code",
      "source": [
        "# Load the InceptionV3 model without the top classification layer\n",
        "base_model = InceptionV3(include_top=False, weights='imagenet', input_shape=(img_size, img_size, 3))\n"
      ],
      "metadata": {
        "id": "B5BtRPLxfFC8"
      },
      "execution_count": null,
      "outputs": []
    },
    {
      "cell_type": "code",
      "source": [
        "# Load the InceptionV3 model without the top classification layer\n",
        "base_model = InceptionV3(include_top=False, weights='imagenet', input_shape=(img_size, img_size, 3))\n",
        "\n",
        "# Add your custom classification layers on top of InceptionV3\n",
        "x = base_model.output\n",
        "x = GlobalAveragePooling2D()(x)\n",
        "x = Dense(256, activation='relu')(x)\n",
        "x = Dropout(0.5)(x)  # Dropout layer for regularization\n",
        "predictions = Dense(num_classes, activation='softmax')(x)\n",
        "model = Model(inputs=base_model.input, outputs=predictions)\n",
        "\n",
        "# Compile the model with RMSprop optimizer\n",
        "model.compile(optimizer=RMSprop(lr=0.0001), loss='categorical_crossentropy', metrics=['accuracy'])\n"
      ],
      "metadata": {
        "colab": {
          "base_uri": "https://localhost:8080/"
        },
        "id": "bEbdZojxfLWt",
        "outputId": "b2365c30-9c41-4e8e-9d42-94ba99cf4eff"
      },
      "execution_count": null,
      "outputs": [
        {
          "output_type": "stream",
          "name": "stderr",
          "text": [
            "/usr/local/lib/python3.10/dist-packages/keras/optimizers/legacy/rmsprop.py:143: UserWarning: The `lr` argument is deprecated, use `learning_rate` instead.\n",
            "  super().__init__(name, **kwargs)\n"
          ]
        }
      ]
    },
    {
      "cell_type": "code",
      "source": [
        "# Data augmentation\n",
        "datagen = ImageDataGenerator(rotation_range=20, width_shift_range=0.2, height_shift_range=0.2,\n",
        "                             shear_range=0.2, zoom_range=0.2, horizontal_flip=True,\n",
        "                             preprocessing_function=preprocess_input)\n",
        "\n",
        "# Define Early Stopping callback\n",
        "early_stopping = EarlyStopping(monitor='val_loss', patience=5, restore_best_weights=True)\n",
        "\n",
        "# Hyperparameter Tuning\n",
        "learning_rates = [0.001, 0.0001]\n",
        "batch_size = 32\n",
        "epochs = 20\n",
        "\n",
        "for lr in learning_rates:\n",
        "    print(f\"Learning Rate: {lr}, Optimizer: RMSprop\")\n",
        "\n",
        "    # Compile the model with the current learning rate\n",
        "    model.compile(optimizer=RMSprop(lr=lr), loss='categorical_crossentropy', metrics=['accuracy'])\n",
        "\n",
        "    # Train the model\n",
        "    history = model.fit(datagen.flow(x_train, y_train, batch_size=batch_size),\n",
        "                        steps_per_epoch=len(x_train) // batch_size,\n",
        "                        validation_data=(x_val, y_val),\n",
        "                        epochs=epochs,\n",
        "                        callbacks=[early_stopping])"
      ],
      "metadata": {
        "colab": {
          "base_uri": "https://localhost:8080/"
        },
        "id": "HqKaymjAfWMV",
        "outputId": "079dcba9-b2da-42f8-a994-20138a8cf88d"
      },
      "execution_count": null,
      "outputs": [
        {
          "output_type": "stream",
          "name": "stdout",
          "text": [
            "Learning Rate: 0.001, Optimizer: RMSprop\n",
            "Epoch 1/20\n",
            "35/35 [==============================] - 1328s 37s/step - loss: 3.1265 - accuracy: 0.0598 - val_loss: 14315655.0000 - val_accuracy: 0.0493\n",
            "Epoch 2/20\n",
            "35/35 [==============================] - 1315s 38s/step - loss: 3.0247 - accuracy: 0.0526 - val_loss: 694469.7500 - val_accuracy: 0.0704\n",
            "Epoch 3/20\n",
            "35/35 [==============================] - 1301s 37s/step - loss: 3.0054 - accuracy: 0.0553 - val_loss: 964.6967 - val_accuracy: 0.0493\n",
            "Epoch 4/20\n",
            "35/35 [==============================] - 1307s 37s/step - loss: 3.0170 - accuracy: 0.0490 - val_loss: 4662.7168 - val_accuracy: 0.0493\n",
            "Epoch 5/20\n",
            "35/35 [==============================] - 1292s 37s/step - loss: 3.0089 - accuracy: 0.0499 - val_loss: 1232.8551 - val_accuracy: 0.0493\n",
            "Epoch 6/20\n",
            "35/35 [==============================] - 1301s 37s/step - loss: 3.0028 - accuracy: 0.0526 - val_loss: 12429.8828 - val_accuracy: 0.0493\n",
            "Epoch 7/20\n",
            "35/35 [==============================] - 1303s 37s/step - loss: 3.0007 - accuracy: 0.0752 - val_loss: 5750.4399 - val_accuracy: 0.0282\n",
            "Epoch 8/20\n",
            "24/35 [===================>..........] - ETA: 6:20 - loss: 2.9878 - accuracy: 0.0732"
          ]
        }
      ]
    },
    {
      "cell_type": "code",
      "source": [
        "# Save the trained model\n",
        "model.save('/content/drive/MyDrive/Food_Classification/inceptionv3_model.hdf5')"
      ],
      "metadata": {
        "id": "csGJLGepfXHk"
      },
      "execution_count": null,
      "outputs": []
    },
    {
      "cell_type": "code",
      "source": [
        "# Load the trained model\n",
        "from keras.models import load_model\n",
        "model = load_model('/content/drive/MyDrive/Food_Classification/inceptionv3_model.hdf5')\n",
        "\n",
        "# Create an interactive file uploader widget\n",
        "uploader = FileUpload(accept='.jpg', multiple=False)\n",
        "\n",
        "# Display the uploader widget\n",
        "display(uploader)\n",
        "\n",
        "# Preprocess and predict on the uploaded image\n",
        "def preprocess_image(image_data):\n",
        "    img = cv2.imdecode(np.frombuffer(image_data, np.uint8), cv2.IMREAD_COLOR)\n",
        "    img = cv2.resize(img, (img_size, img_size))\n",
        "    img = img / 255.0\n",
        "    img = np.expand_dims(img, axis=0)\n",
        "    return img\n",
        "\n",
        "# Function to handle image upload and prediction\n",
        "def handle_upload(change):\n",
        "    uploaded_filename = next(iter(uploader.value))\n",
        "    image_data = uploader.value[uploaded_filename]['content']\n",
        "\n",
        "    # Preprocess the uploaded image\n",
        "    img = preprocess_image(image_data)\n",
        "\n",
        "    # Make a prediction\n",
        "    prediction = model.predict(img)\n",
        "    predicted_class"
      ],
      "metadata": {
        "id": "IwAzDaI_faMo"
      },
      "execution_count": null,
      "outputs": []
    }
  ]
}